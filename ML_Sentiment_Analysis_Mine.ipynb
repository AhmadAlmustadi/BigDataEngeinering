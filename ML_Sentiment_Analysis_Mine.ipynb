{
 "cells": [
  {
   "cell_type": "markdown",
   "metadata": {
    "application/vnd.databricks.v1+cell": {
     "cellMetadata": {
      "byteLimit": 2048000,
      "rowLimit": 10000
     },
     "inputWidgets": {},
     "nuid": "799d6e2f-c6d6-4cf7-9262-6a2e26da267f",
     "showTitle": false,
     "title": ""
    }
   },
   "source": [
    "%md\n",
    "In this Note Book, we are going to use the ML model we trained previously to make sentiment analysis to conclude the topic of each post, and summarize which topics are the most popular topics. The business reason why we train this model is because we are going to create a predict model to give a post a topic immediately when it was created. In this way, the post will be categorized to the right place for other users.\n",
    "\n",
    "Before you start this notebook, pls run the one for training so you would have the Azure Bolb mounted\n"
   ]
  },
  {
   "cell_type": "code",
   "execution_count": 0,
   "metadata": {
    "application/vnd.databricks.v1+cell": {
     "cellMetadata": {
      "byteLimit": 2048000,
      "rowLimit": 10000
     },
     "inputWidgets": {},
     "nuid": "f8ff8ac5-ac8f-42ef-8e09-e6c23beeb80e",
     "showTitle": false,
     "title": ""
    }
   },
   "outputs": [],
   "source": [
    "# Importing necessary libraries and functions:\n",
    "from pyspark.sql.functions import *\n",
    "import pandas as pd\n",
    "import pickle\n"
   ]
  },
  {
   "cell_type": "code",
   "execution_count": 0,
   "metadata": {
    "application/vnd.databricks.v1+cell": {
     "cellMetadata": {
      "byteLimit": 2048000,
      "rowLimit": 10000
     },
     "inputWidgets": {},
     "nuid": "971ba094-6794-4a6b-832f-9d741710bf3a",
     "showTitle": false,
     "title": ""
    }
   },
   "outputs": [
    {
     "output_type": "stream",
     "name": "stdout",
     "output_type": "stream",
     "text": [
      "The model: [FileInfo(path='dbfs:/mnt/deBDProject/model_1/clf_model.pkl', name='clf_model.pkl', size=85119564, modificationTime=1716029411000)]\n\n\nThe encoder: [FileInfo(path='dbfs:/mnt/deBDProject/stringindexer_1/stringindexer.pkl', name='stringindexer.pkl', size=13289, modificationTime=1716029406000)]\n"
     ]
    }
   ],
   "source": [
    "model = dbutils.fs.ls(\"/mnt/deBDProject/model_1/clf_model.pkl\")\n",
    "encoder = dbutils.fs.ls(\"/mnt/deBDProject/stringindexer_1/stringindexer.pkl\")\n",
    "print(f\"The model: {model}\")\n",
    "print('\\n')\n",
    "print(f'The encoder: {encoder}')\n"
   ]
  },
  {
   "cell_type": "code",
   "execution_count": 0,
   "metadata": {
    "application/vnd.databricks.v1+cell": {
     "cellMetadata": {
      "byteLimit": 2048000,
      "rowLimit": 10000
     },
     "inputWidgets": {},
     "nuid": "7c36aa35-6a92-4ad0-a66e-079d168d444b",
     "showTitle": false,
     "title": ""
    }
   },
   "outputs": [],
   "source": [
    "# to read the model we need to use Pickle, the same lib that we have used for saving the model:\n",
    "import pickle\n",
    "\n",
    "# loading the clf model:\n",
    "\n",
    "source = \"/mnt/deBDProject/model_1/clf_model.pkl\" \n",
    "destination = \"/Volumes/wcd_bd_capstone2_project/model/clf_model/clf_model.pkl\"\n",
    "dbutils.fs.cp(source, destination)\n",
    "\n",
    "with open(destination, 'rb') as file:\n",
    "  clf_model = pickle.load(file)\n",
    "\n",
    "\n",
    "\n",
    "\n",
    "\n",
    "\n",
    "\n",
    "\n",
    "\n",
    "# loading the decoder for the Tags:\n",
    "destination_path = \"/Volumes/wcd_bd_capstone2_project/model/decoder/stringindexer.pkl\"\n",
    "source_path = \"/mnt/deBDProject/stringindexer_1/stringindexer.pkl\" \n",
    "dbutils.fs.cp(source_path, destination_path)\n",
    "\n",
    "\n",
    "with open(destination_path, 'rb') as file_2:\n",
    "  decoder = pickle.load(file_2)\n",
    "\n",
    "\n",
    "\n",
    "\n",
    "\n",
    "\n",
    "\n",
    "# loadign the if-idf for the (text) column:\n",
    "destination_path = \"/Volumes/wcd_bd_capstone2_project/model/clf_model/tfidf.pkl\"\n",
    "source_path = \"/mnt/deBDProject/model_1/tfidf.pkl\"\n",
    "dbutils.fs.cp(source_path, destination_path)\n",
    "\n",
    "\n",
    "with open(destination_path, 'rb') as file_3:\n",
    "  tfidf = pickle.load(file_3)\n"
   ]
  },
  {
   "cell_type": "code",
   "execution_count": 0,
   "metadata": {
    "application/vnd.databricks.v1+cell": {
     "cellMetadata": {
      "byteLimit": 2048000,
      "rowLimit": 10000
     },
     "inputWidgets": {},
     "nuid": "fbe73524-4d84-476c-9925-9f45d5211e2d",
     "showTitle": false,
     "title": ""
    }
   },
   "outputs": [],
   "source": [
    "# new data to predict its tags :\n",
    "# dbutils.fs.ls(\"/mnt/deBDProject/landing/Posts\")"
   ]
  },
  {
   "cell_type": "code",
   "execution_count": 0,
   "metadata": {
    "application/vnd.databricks.v1+cell": {
     "cellMetadata": {
      "byteLimit": 2048000,
      "rowLimit": 10000
     },
     "inputWidgets": {},
     "nuid": "65ea6fdb-dfd2-4b57-8052-7888f580b97a",
     "showTitle": false,
     "title": ""
    }
   },
   "outputs": [
    {
     "output_type": "display_data",
     "data": {
      "text/html": [
       "<style scoped>\n",
       "  .table-result-container {\n",
       "    max-height: 300px;\n",
       "    overflow: auto;\n",
       "  }\n",
       "  table, th, td {\n",
       "    border: 1px solid black;\n",
       "    border-collapse: collapse;\n",
       "  }\n",
       "  th, td {\n",
       "    padding: 5px;\n",
       "  }\n",
       "  th {\n",
       "    text-align: left;\n",
       "  }\n",
       "</style><div class='table-result-container'><table class='table-result'><thead style='background-color: white'><tr><th>id</th><th>AcceptedAnswerId</th><th>AnswerCount</th><th>Body</th><th>CommentCount</th><th>CreationDate</th><th>FavoriteCount</th><th>LastEditDate</th><th>LastEditorDisplayName</th><th>LastEditorUserId</th><th>OwnerUserId</th><th>ParentId</th><th>PostTypeId</th><th>Score</th><th>Tags</th><th>Title</th><th>ViewCount</th></tr></thead><tbody><tr><td>10429181</td><td>0</td><td>0</td><td>\"<p>I've taken a look at your <code>stringToHex</code> method and it seems to be incorrect. Try this one instead:</p>  <pre><code>        StringBuilder rep = new StringBuilder();         for (byte b : base.getBytes) {             rep.append(Integer.toString((b &amp; 0xff) + 0x100, 16).substring(1));         }         System.out.println(rep); </code></pre>  <p>Also I found this <a href=\"\"http://eternusuk.blogspot.fr/2008/09/java-triple-des-example.html\"\" rel=\"\"nofollow\"\">TripleDes with Padding</a> example; you could try with the algorithm and transformation the example uses.</p> \"</td><td>0</td><td>2024-05-03</td><td>0</td><td>2024-05-05</td><td>NULL</td><td>589259</td><td>1140748</td><td>10427205</td><td>2</td><td>3.0</td><td>NULL</td><td>NULL</td><td>0</td></tr><tr><td>10409975</td><td>0</td><td>1</td><td><p>I try to do a migration to Windows Server 2008 and i am new with script concept.</p>  <p>I have a .sh file to launch which contains :</p>  <pre><code>cd RADIOROOT/PLAYERS killall player_1 su - robotstream --command='/RADIOROOT/PLAYERS/player_1 -t /RADIOROOT/PLAYERS/player_1.conf' &amp; &gt; dev/null </code></pre>  <p>First, how can i launch this .sh file on my IIS ? Do i have to change it in a powershell script ?</p>  <p>I tried to change it to a .ps1 file with some changes but not working. Anyone know how to do it ?</p>  <p>Then, do you have any website about changing this sort of script in order to make it work ?</p>  <p>Thanks for your help.</p> </td><td>2</td><td>2024-05-02</td><td>0</td><td>2024-05-05</td><td>NULL</td><td>1283055</td><td>1283055</td><td>0</td><td>1</td><td>1.0</td><td><iis><powershell><migration><windows-server-2008></td><td>Script Change .sh for Windows Server 2008</td><td>331</td></tr><tr><td>10429246</td><td>0</td><td>0</td><td><pre><code>final OnClickLisener listener = new OnClickListener() {      public void onClick(View v){          switch(v.getId()){           case R.id.zero:             break;          case R.id.one:             break;          case R.id.two:             break;          }      } } final int[] btnIds = new int[]{R.id.one, R.id.two, R.id.zero}; for(int i = 0; i &lt; btnIds.length; i++) {     final Button btn = (Button)findViewById(btnIds[i]);     btn.setOnClickListener(listener); } </code></pre> </td><td>1</td><td>2024-05-03</td><td>0</td><td>2024-05-05</td><td>NULL</td><td>877732</td><td>877732</td><td>10429185</td><td>2</td><td>3.0</td><td>NULL</td><td>NULL</td><td>0</td></tr><tr><td>10442417</td><td>10442789</td><td>1</td><td><p>My question is so simple.</p>  <p>Imagine we have a Foo class. and has a T property.</p>  <pre><code>public class Foo&lt;T&gt; {     public T Property { get; set; } } </code></pre>  <p>I want to implement in it IXmlSerializable and my problem is I have no idea to imitate the standard XmlSerialization. I really have no idea about how to write this property like the standart XmlSerlalization.</p>  <p>UPDATE: I did this and it's not working</p>  <pre><code>public class Foo&lt;T&gt; : IFoo     where T : IXmlSerializable {     public T Value { get; set; } }  public class FooA : Foo&lt;string&gt; { } public class FooB : Foo&lt;int&gt; { } public class FooC : Foo&lt;List&lt;Double&gt;&gt; { } </code></pre>  <p>When I serialized this classes (A, B and C). I wanna have something like this:</p>  <p>Using first class:</p>  <pre><code>&lt;FooA&gt;     &lt;Value&gt;StringDemo&lt;/Value&gt; &lt;/FooA&gt; </code></pre>  <p>Using second class:</p>  <pre><code>&lt;FooB&gt;     &lt;Value&gt;2&lt;/Value&gt; &lt;/FooB&gt; </code></pre>  <p>Using third class:</p>  <pre><code>&lt;FooC&gt;     &lt;Value&gt;         &lt;ArrayOfDouble xsi:..&gt;             &lt;Double&gt;3.1416&lt;/Double&gt;             &lt;Double&gt;4.2&lt;/Double&gt;         &lt;/ArrayOfDouble&gt;     &lt;/Value&gt; &lt;/FooC&gt; </code></pre>  <p>Something like this is what I wanted, I don't want to implement in all of this a custom XmlSerializer, I mean the default which the standard serialization use.</p> </td><td>0</td><td>2024-05-04</td><td>0</td><td>2024-05-05</td><td>NULL</td><td>1118485</td><td>1118485</td><td>0</td><td>1</td><td>0.0</td><td><c#><xml><xml-serialization><xmlserializer><ixmlserializable></td><td>Using IXmlSerialization, how can I serialize a T property?</td><td>216</td></tr><tr><td>10438648</td><td>10438784</td><td>3</td><td><p>I tried to place <code>const double NA = 1e-300;</code> in the header file for Cocoa-Touch but Xcode doesn't like it.  However when I did this in Cocoa(64 bit MAC), it works just fine.</p>  <p>????????</p>  <p>Errors:</p>  <hr>  <blockquote>   <p>Duplicate symbol _NA in   /Users/jdl/Library/Developer/Xcode/DerivedData/iExperiment-chcmotcyeolxeacnidtlgofkcihz/Build/Intermediates/iExperiment.build/Debug-iphonesimulator/iExperiment.build/Objects-normal/i386/ViewController.o   and   /Users/jdl/Library/Developer/Xcode/DerivedData/iExperiment-chcmotcyeolxeacnidtlgofkcihz/Build/Intermediates/iExperiment.build/Debug-iphonesimulator/iExperiment.build/Objects-normal/i386/AppDelegate.o   for architecture i386</p> </blockquote>  <hr>  <blockquote>   <p>Command   /Developer/Platforms/iPhoneSimulator.platform/Developer/usr/bin/clang   failed with exit code 1</p> </blockquote>  <hr>  <pre><code>#import &lt;UIKit/UIKit.h&gt;  const double NA = 1e-300; // &lt;------------- Error in Cocoa-Touch but not Cocoa ??   // So where do I put this so it doesn't error out in Cocoa-Touch??   @interface ViewController : UIViewController {     UITextView *tvText; } @end </code></pre> </td><td>0</td><td>2024-05-03</td><td>0</td><td>2024-05-05</td><td>NULL</td><td>1028709</td><td>767829</td><td>0</td><td>1</td><td>0.0</td><td><objective-c><xcode><cocoa-touch><cocoa></td><td>\"Placement of a \"\"const double NA = 1e-300\"\" errors out in header for Cocoa-Touch but not Cocoa?\"</td><td>247</td></tr></tbody></table></div>"
      ]
     },
     "metadata": {
      "application/vnd.databricks.v1+output": {
       "addedWidgets": {},
       "aggData": [],
       "aggError": "",
       "aggOverflow": false,
       "aggSchema": [],
       "aggSeriesLimitReached": false,
       "aggType": "",
       "arguments": {},
       "columnCustomDisplayInfos": {},
       "data": [
        [
         10429181,
         0,
         0,
         "\"<p>I've taken a look at your <code>stringToHex</code> method and it seems to be incorrect. Try this one instead:</p>  <pre><code>        StringBuilder rep = new StringBuilder();         for (byte b : base.getBytes) {             rep.append(Integer.toString((b &amp; 0xff) + 0x100, 16).substring(1));         }         System.out.println(rep); </code></pre>  <p>Also I found this <a href=\"\"http://eternusuk.blogspot.fr/2008/09/java-triple-des-example.html\"\" rel=\"\"nofollow\"\">TripleDes with Padding</a> example; you could try with the algorithm and transformation the example uses.</p> \"",
         0,
         "2024-05-03",
         0,
         "2024-05-05",
         "NULL",
         589259,
         1140748,
         10427205,
         2,
         3.0,
         "NULL",
         "NULL",
         0
        ],
        [
         10409975,
         0,
         1,
         "<p>I try to do a migration to Windows Server 2008 and i am new with script concept.</p>  <p>I have a .sh file to launch which contains :</p>  <pre><code>cd RADIOROOT/PLAYERS killall player_1 su - robotstream --command='/RADIOROOT/PLAYERS/player_1 -t /RADIOROOT/PLAYERS/player_1.conf' &amp; &gt; dev/null </code></pre>  <p>First, how can i launch this .sh file on my IIS ? Do i have to change it in a powershell script ?</p>  <p>I tried to change it to a .ps1 file with some changes but not working. Anyone know how to do it ?</p>  <p>Then, do you have any website about changing this sort of script in order to make it work ?</p>  <p>Thanks for your help.</p> ",
         2,
         "2024-05-02",
         0,
         "2024-05-05",
         "NULL",
         1283055,
         1283055,
         0,
         1,
         1.0,
         "<iis><powershell><migration><windows-server-2008>",
         "Script Change .sh for Windows Server 2008",
         331
        ],
        [
         10429246,
         0,
         0,
         "<pre><code>final OnClickLisener listener = new OnClickListener() {      public void onClick(View v){          switch(v.getId()){           case R.id.zero:             break;          case R.id.one:             break;          case R.id.two:             break;          }      } } final int[] btnIds = new int[]{R.id.one, R.id.two, R.id.zero}; for(int i = 0; i &lt; btnIds.length; i++) {     final Button btn = (Button)findViewById(btnIds[i]);     btn.setOnClickListener(listener); } </code></pre> ",
         1,
         "2024-05-03",
         0,
         "2024-05-05",
         "NULL",
         877732,
         877732,
         10429185,
         2,
         3.0,
         "NULL",
         "NULL",
         0
        ],
        [
         10442417,
         10442789,
         1,
         "<p>My question is so simple.</p>  <p>Imagine we have a Foo class. and has a T property.</p>  <pre><code>public class Foo&lt;T&gt; {     public T Property { get; set; } } </code></pre>  <p>I want to implement in it IXmlSerializable and my problem is I have no idea to imitate the standard XmlSerialization. I really have no idea about how to write this property like the standart XmlSerlalization.</p>  <p>UPDATE: I did this and it's not working</p>  <pre><code>public class Foo&lt;T&gt; : IFoo     where T : IXmlSerializable {     public T Value { get; set; } }  public class FooA : Foo&lt;string&gt; { } public class FooB : Foo&lt;int&gt; { } public class FooC : Foo&lt;List&lt;Double&gt;&gt; { } </code></pre>  <p>When I serialized this classes (A, B and C). I wanna have something like this:</p>  <p>Using first class:</p>  <pre><code>&lt;FooA&gt;     &lt;Value&gt;StringDemo&lt;/Value&gt; &lt;/FooA&gt; </code></pre>  <p>Using second class:</p>  <pre><code>&lt;FooB&gt;     &lt;Value&gt;2&lt;/Value&gt; &lt;/FooB&gt; </code></pre>  <p>Using third class:</p>  <pre><code>&lt;FooC&gt;     &lt;Value&gt;         &lt;ArrayOfDouble xsi:..&gt;             &lt;Double&gt;3.1416&lt;/Double&gt;             &lt;Double&gt;4.2&lt;/Double&gt;         &lt;/ArrayOfDouble&gt;     &lt;/Value&gt; &lt;/FooC&gt; </code></pre>  <p>Something like this is what I wanted, I don't want to implement in all of this a custom XmlSerializer, I mean the default which the standard serialization use.</p> ",
         0,
         "2024-05-04",
         0,
         "2024-05-05",
         "NULL",
         1118485,
         1118485,
         0,
         1,
         0.0,
         "<c#><xml><xml-serialization><xmlserializer><ixmlserializable>",
         "Using IXmlSerialization, how can I serialize a T property?",
         216
        ],
        [
         10438648,
         10438784,
         3,
         "<p>I tried to place <code>const double NA = 1e-300;</code> in the header file for Cocoa-Touch but Xcode doesn't like it.  However when I did this in Cocoa(64 bit MAC), it works just fine.</p>  <p>????????</p>  <p>Errors:</p>  <hr>  <blockquote>   <p>Duplicate symbol _NA in   /Users/jdl/Library/Developer/Xcode/DerivedData/iExperiment-chcmotcyeolxeacnidtlgofkcihz/Build/Intermediates/iExperiment.build/Debug-iphonesimulator/iExperiment.build/Objects-normal/i386/ViewController.o   and   /Users/jdl/Library/Developer/Xcode/DerivedData/iExperiment-chcmotcyeolxeacnidtlgofkcihz/Build/Intermediates/iExperiment.build/Debug-iphonesimulator/iExperiment.build/Objects-normal/i386/AppDelegate.o   for architecture i386</p> </blockquote>  <hr>  <blockquote>   <p>Command   /Developer/Platforms/iPhoneSimulator.platform/Developer/usr/bin/clang   failed with exit code 1</p> </blockquote>  <hr>  <pre><code>#import &lt;UIKit/UIKit.h&gt;  const double NA = 1e-300; // &lt;------------- Error in Cocoa-Touch but not Cocoa ??   // So where do I put this so it doesn't error out in Cocoa-Touch??   @interface ViewController : UIViewController {     UITextView *tvText; } @end </code></pre> ",
         0,
         "2024-05-03",
         0,
         "2024-05-05",
         "NULL",
         1028709,
         767829,
         0,
         1,
         0.0,
         "<objective-c><xcode><cocoa-touch><cocoa>",
         "\"Placement of a \"\"const double NA = 1e-300\"\" errors out in header for Cocoa-Touch but not Cocoa?\"",
         247
        ]
       ],
       "datasetInfos": [],
       "dbfsResultPath": null,
       "isJsonSchema": true,
       "metadata": {},
       "overflow": false,
       "plotOptions": {
        "customPlotOptions": {},
        "displayType": "table",
        "pivotAggregation": null,
        "pivotColumns": null,
        "xColumns": null,
        "yColumns": null
       },
       "removedWidgets": [],
       "schema": [
        {
         "metadata": "{}",
         "name": "id",
         "type": "\"integer\""
        },
        {
         "metadata": "{}",
         "name": "AcceptedAnswerId",
         "type": "\"integer\""
        },
        {
         "metadata": "{}",
         "name": "AnswerCount",
         "type": "\"integer\""
        },
        {
         "metadata": "{}",
         "name": "Body",
         "type": "\"string\""
        },
        {
         "metadata": "{}",
         "name": "CommentCount",
         "type": "\"integer\""
        },
        {
         "metadata": "{}",
         "name": "CreationDate",
         "type": "\"date\""
        },
        {
         "metadata": "{}",
         "name": "FavoriteCount",
         "type": "\"integer\""
        },
        {
         "metadata": "{}",
         "name": "LastEditDate",
         "type": "\"date\""
        },
        {
         "metadata": "{}",
         "name": "LastEditorDisplayName",
         "type": "\"string\""
        },
        {
         "metadata": "{}",
         "name": "LastEditorUserId",
         "type": "\"integer\""
        },
        {
         "metadata": "{}",
         "name": "OwnerUserId",
         "type": "\"integer\""
        },
        {
         "metadata": "{}",
         "name": "ParentId",
         "type": "\"integer\""
        },
        {
         "metadata": "{}",
         "name": "PostTypeId",
         "type": "\"integer\""
        },
        {
         "metadata": "{}",
         "name": "Score",
         "type": "\"float\""
        },
        {
         "metadata": "{}",
         "name": "Tags",
         "type": "\"string\""
        },
        {
         "metadata": "{}",
         "name": "Title",
         "type": "\"string\""
        },
        {
         "metadata": "{}",
         "name": "ViewCount",
         "type": "\"integer\""
        }
       ],
       "type": "table"
      }
     },
     "output_type": "display_data"
    }
   ],
   "source": [
    "new_data = spark.read.parquet(\"/mnt/deBDProject/landing/Posts\")\n",
    "new_data.limit(5).display()"
   ]
  },
  {
   "cell_type": "code",
   "execution_count": 0,
   "metadata": {
    "application/vnd.databricks.v1+cell": {
     "cellMetadata": {
      "byteLimit": 2048000,
      "rowLimit": 10000
     },
     "inputWidgets": {},
     "nuid": "0b1c8961-bc1e-462c-ae20-00f4de5a4074",
     "showTitle": false,
     "title": ""
    }
   },
   "outputs": [],
   "source": [
    "# filter the null values:\n",
    "new_data = new_data.filter(\"Body is not null\")\n",
    "    # Making sure the naming of the columns are consistent with the model\n",
    "new_data = new_data.select(col(\"Body\").alias(\"text\"), col(\"Tags\"))\n",
    "    # Preprocessing of the feature column\n",
    "new_data = new_data.withColumn('text', regexp_replace(new_data.text, r'<.*?>', ''))\n",
    "cleaned = new_data.withColumn('text', regexp_replace('text', r\"http\\S+\", \"\")) \\\n",
    "                    .withColumn('text', regexp_replace('text', r\"[^a-zA-z]\", \" \")) \\\n",
    "                    .withColumn('text', regexp_replace('text', r\"\\s+\", \" \")) \\\n",
    "                    .withColumn('text', lower('text')) \\\n",
    "                    .withColumn('text', trim('text'))\\\n",
    "                    \n",
    "\n",
    "# cleaned.display()"
   ]
  },
  {
   "cell_type": "code",
   "execution_count": 0,
   "metadata": {
    "application/vnd.databricks.v1+cell": {
     "cellMetadata": {
      "byteLimit": 2048000,
      "rowLimit": 10000
     },
     "inputWidgets": {},
     "nuid": "7e9f7a9c-0732-4d20-8656-15a753fb56d3",
     "showTitle": false,
     "title": ""
    }
   },
   "outputs": [
    {
     "output_type": "execute_result",
     "data": {
      "text/html": [
       "<div>\n",
       "<style scoped>\n",
       "    .dataframe tbody tr th:only-of-type {\n",
       "        vertical-align: middle;\n",
       "    }\n",
       "\n",
       "    .dataframe tbody tr th {\n",
       "        vertical-align: top;\n",
       "    }\n",
       "\n",
       "    .dataframe thead th {\n",
       "        text-align: right;\n",
       "    }\n",
       "</style>\n",
       "<table border=\"1\" class=\"dataframe\">\n",
       "  <thead>\n",
       "    <tr style=\"text-align: right;\">\n",
       "      <th></th>\n",
       "      <th>Text</th>\n",
       "      <th>Tags</th>\n",
       "    </tr>\n",
       "  </thead>\n",
       "  <tbody>\n",
       "    <tr>\n",
       "      <th>0</th>\n",
       "      <td>i ve taken a look at your stringtohex method a...</td>\n",
       "      <td>()</td>\n",
       "    </tr>\n",
       "    <tr>\n",
       "      <th>1</th>\n",
       "      <td>i try to do a migration to windows server and ...</td>\n",
       "      <td>()</td>\n",
       "    </tr>\n",
       "    <tr>\n",
       "      <th>2</th>\n",
       "      <td>final onclicklisener listener new onclickliste...</td>\n",
       "      <td>()</td>\n",
       "    </tr>\n",
       "    <tr>\n",
       "      <th>3</th>\n",
       "      <td>my question is so simple imagine we have a foo...</td>\n",
       "      <td>(java,)</td>\n",
       "    </tr>\n",
       "    <tr>\n",
       "      <th>4</th>\n",
       "      <td>i tried to place const double na e in the head...</td>\n",
       "      <td>()</td>\n",
       "    </tr>\n",
       "  </tbody>\n",
       "</table>\n",
       "</div>"
      ],
      "text/plain": [
       "                                                Text     Tags\n",
       "0  i ve taken a look at your stringtohex method a...       ()\n",
       "1  i try to do a migration to windows server and ...       ()\n",
       "2  final onclicklisener listener new onclickliste...       ()\n",
       "3  my question is so simple imagine we have a foo...  (java,)\n",
       "4  i tried to place const double na e in the head...       ()"
      ]
     },
     "execution_count": 92,
     "metadata": {},
     "output_type": "execute_result"
    }
   ],
   "source": [
    "# we need to convert the Spark DF to Pandas DF to fit in in my ML model \n",
    "cleaned_df = cleaned.toPandas()\n",
    "# assigning the x to the x column\n",
    "x = cleaned_df['text']\n",
    "# applying the  tfidf transformer:\n",
    "x_transformed = tfidf.transform(x)\n",
    "#predicting:\n",
    "pred = clf_model.predict(x_transformed)\n",
    "# decoding the predictions:\n",
    "Tags = decoder.inverse_transform(pred)\n",
    "\n",
    "# save the decoded predictions\n",
    "pd_df_pred = pd.DataFrame({'Text':cleaned_df['text'], \n",
    "              'Tags': Tags})\n",
    "\n",
    "pd_df_pred.head()\n",
    "\n"
   ]
  },
  {
   "cell_type": "code",
   "execution_count": 0,
   "metadata": {
    "application/vnd.databricks.v1+cell": {
     "cellMetadata": {
      "byteLimit": 2048000,
      "rowLimit": 10000
     },
     "inputWidgets": {},
     "nuid": "e8f5c0a8-ff88-44a0-9c43-8067d77b3dae",
     "showTitle": false,
     "title": ""
    }
   },
   "outputs": [],
   "source": [
    "# # we need to save the encoded tags so we can perform some agg on it:\n",
    "# # we can join it with the previous DF if we want\n",
    "# # the problem would be the size of the data\n",
    "\n",
    "# decoded_tag_df = pd.DataFrame(pred, columns=decoder.classes_)\n",
    "# decoded_tag_df.head()"
   ]
  },
  {
   "cell_type": "code",
   "execution_count": 0,
   "metadata": {
    "application/vnd.databricks.v1+cell": {
     "cellMetadata": {
      "byteLimit": 2048000,
      "rowLimit": 10000
     },
     "inputWidgets": {},
     "nuid": "f60a2b00-55e9-4774-9333-9cee08228aa5",
     "showTitle": false,
     "title": ""
    }
   },
   "outputs": [],
   "source": [
    "# convert the pandas DF back to spark DF\n",
    "pred_spark_df = spark.createDataFrame(pd_df_pred)\n",
    "# pred_spark_df.limit(20).display()"
   ]
  },
  {
   "cell_type": "code",
   "execution_count": 0,
   "metadata": {
    "application/vnd.databricks.v1+cell": {
     "cellMetadata": {
      "byteLimit": 2048000,
      "rowLimit": 10000
     },
     "inputWidgets": {},
     "nuid": "7ef71aca-e329-47b6-afc5-84cef9482ec8",
     "showTitle": false,
     "title": ""
    }
   },
   "outputs": [],
   "source": [
    "# using explode so we can perform agg on the data, and we will assing it to a new column\n",
    "# but we cant save it in a csv fromat if we still has the tags in array form, becouse of this error:\n",
    "# AnalysisException: [UNSUPPORTED_DATA_TYPE_FOR_DATASOURCE] The CSV datasource doesn't support the column `Tags` of the type \"ARRAY<STRING>\".\n",
    "pred_spark_df_exp = pred_spark_df.withColumn('sep_tags', explode(pred_spark_df['Tags']))\n",
    "# \n",
    "pred_spark_df = pred_spark_df.withColumn('Tags', explode(pred_spark_df['Tags']))\n",
    "# pred_spark_df.limit(20).display()"
   ]
  },
  {
   "cell_type": "code",
   "execution_count": 0,
   "metadata": {
    "application/vnd.databricks.v1+cell": {
     "cellMetadata": {
      "byteLimit": 2048000,
      "rowLimit": 10000
     },
     "inputWidgets": {},
     "nuid": "0751debe-0008-4240-ba72-9c1f10e3c6a1",
     "showTitle": false,
     "title": ""
    }
   },
   "outputs": [],
   "source": [
    "topic_qty = pred_spark_df.groupBy(col('Tags')).agg(count('Tags').alias('qty')).orderBy(desc('qty'))"
   ]
  },
  {
   "cell_type": "markdown",
   "metadata": {
    "application/vnd.databricks.v1+cell": {
     "cellMetadata": {
      "byteLimit": 2048000,
      "rowLimit": 10000
     },
     "inputWidgets": {},
     "nuid": "77354f60-ddd8-4b32-bd1a-58dfdf41866e",
     "showTitle": false,
     "title": ""
    }
   },
   "source": [
    "# save the result to BI folder:"
   ]
  },
  {
   "cell_type": "code",
   "execution_count": 0,
   "metadata": {
    "application/vnd.databricks.v1+cell": {
     "cellMetadata": {
      "byteLimit": 2048000,
      "rowLimit": 10000
     },
     "inputWidgets": {},
     "nuid": "a273c770-3040-42aa-b58a-e5ea8d3d408a",
     "showTitle": false,
     "title": ""
    }
   },
   "outputs": [],
   "source": [
    "def crt_sgl_file(result_path):\n",
    "        # write the result to a folder container several files\n",
    "        path = \"/mnt/deBDProject/BI_1/ml_result\"\n",
    "        topic_qty.write.option(\"delimiter\", \",\").option(\"header\", \"true\").mode(\"overwrite\").csv(path)\n",
    "\n",
    "        # list the folder, find the csv file \n",
    "        filenames = dbutils.fs.ls(path)\n",
    "        name = ''\n",
    "        for filename in filenames:\n",
    "            if filename.name.endswith('csv'):\n",
    "                org_name = filename.name\n",
    "\n",
    "        # copy the csv file to the path you want to save, in this example, we use  \"/mnt/deBDProject/BI/ml_result.csv\"\n",
    "        dbutils.fs.cp(path + '/'+ org_name, result_path)\n",
    "\n",
    "        # delete the folder\n",
    "        dbutils.fs.rm(path, True)\n",
    "\n",
    "        print('single file created')"
   ]
  },
  {
   "cell_type": "code",
   "execution_count": 0,
   "metadata": {
    "application/vnd.databricks.v1+cell": {
     "cellMetadata": {
      "byteLimit": 2048000,
      "rowLimit": 10000
     },
     "inputWidgets": {},
     "nuid": "9323236c-ac46-451e-bc30-0332c7689f5a",
     "showTitle": false,
     "title": ""
    }
   },
   "outputs": [
    {
     "output_type": "stream",
     "name": "stdout",
     "output_type": "stream",
     "text": [
      "single file created\n"
     ]
    }
   ],
   "source": [
    "result_path = \"/mnt/deBDProject/BI_1/ml_result.csv\"\n",
    "\n",
    "crt_sgl_file(result_path)"
   ]
  },
  {
   "cell_type": "code",
   "execution_count": 0,
   "metadata": {
    "application/vnd.databricks.v1+cell": {
     "cellMetadata": {
      "byteLimit": 2048000,
      "rowLimit": 10000
     },
     "inputWidgets": {},
     "nuid": "4a5b06f7-4406-41db-be07-91ddcdd0b7cb",
     "showTitle": false,
     "title": ""
    }
   },
   "outputs": [],
   "source": []
  }
 ],
 "metadata": {
  "application/vnd.databricks.v1+notebook": {
   "dashboards": [],
   "environmentMetadata": null,
   "language": "python",
   "notebookMetadata": {
    "pythonIndentUnit": 4
   },
   "notebookName": "ML_Sentiment_Analysis_Mine",
   "widgets": {}
  }
 },
 "nbformat": 4,
 "nbformat_minor": 0
}
